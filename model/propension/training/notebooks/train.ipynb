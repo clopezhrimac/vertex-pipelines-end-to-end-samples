{
 "cells": [
  {
   "cell_type": "code",
   "execution_count": 1,
   "id": "5eb77a85-3d45-4a2e-a346-b6c705e50fb5",
   "metadata": {
    "ExecuteTime": {
     "end_time": "2023-10-06T17:58:59.387596Z",
     "start_time": "2023-10-06T17:58:59.375602500Z"
    }
   },
   "outputs": [],
   "source": [
    "# Add propension/src to sys path to import functions easily\n",
    "import sys\n",
    "from pathlib import Path\n",
    "\n",
    "src_path = str(Path.cwd().parent / 'src')\n",
    "sys.path.append(src_path)"
   ]
  },
  {
   "cell_type": "code",
   "execution_count": 2,
   "id": "ebe21ceb-6789-4c74-a33e-a6a2ea7d3537",
   "metadata": {
    "ExecuteTime": {
     "end_time": "2023-10-06T17:59:05.027050600Z",
     "start_time": "2023-10-06T17:59:01.423509200Z"
    }
   },
   "outputs": [],
   "source": [
    "# Import utils\n",
    "from utilities import save_metrics, save_model_artifact, save_training_dataset_metadata\n",
    "from utilities import read_datasets, split_xy, indices_in_list\n",
    "from utilities.ml_pipeline import build_ml_pipeline, fit_ml_pipeline, evaluate_model, calculate_feature_importance"
   ]
  },
  {
   "cell_type": "code",
   "execution_count": 3,
   "id": "aaa51ebe-35f8-40ef-9523-4e8f6a8ca116",
   "metadata": {
    "ExecuteTime": {
     "end_time": "2023-10-06T17:59:05.113050400Z",
     "start_time": "2023-10-06T17:59:05.020053Z"
    }
   },
   "outputs": [],
   "source": [
    "# Import constants\n",
    "from feature_constants import NUM_COLS, OHE_COLS\n",
    "from feature_constants import AGE_COL, NSE_COL, RCC_COL, DES_CONO_COL, COMBO_COL\n",
    "from feature_constants import NSE_CATEGORY_ORDER, RCC_CATEGORY_ORDER, LIMA_PROV_CATEGORY_ORDER"
   ]
  },
  {
   "cell_type": "code",
   "execution_count": 4,
   "id": "a480bfba-6c2d-4b91-a4df-75c691f32688",
   "metadata": {
    "ExecuteTime": {
     "end_time": "2023-10-06T17:59:05.379052600Z",
     "start_time": "2023-10-06T17:59:05.093051200Z"
    }
   },
   "outputs": [],
   "source": [
    "# Import trasnformers\n",
    "from transformers import create_model, build_preprocessing_transformer"
   ]
  },
  {
   "cell_type": "code",
   "execution_count": 5,
   "id": "cd319162-67ae-4840-99f9-dd766b577b8d",
   "metadata": {
    "ExecuteTime": {
     "end_time": "2023-10-06T17:59:05.381052100Z",
     "start_time": "2023-10-06T17:59:05.365051600Z"
    }
   },
   "outputs": [],
   "source": [
    "# Declare arguments\n",
    "TRAIN_PATH = \"gs://ue4_ndlk_nonprod_stg_gcs_iadev_artfsto/tmp/score_venta_ami/propension/datasets/train\"\n",
    "VALID_PATH = \"gs://ue4_ndlk_nonprod_stg_gcs_iadev_artfsto/tmp/score_venta_ami/propension/datasets/valid\"\n",
    "TEST_PATH = \"gs://ue4_ndlk_nonprod_stg_gcs_iadev_artfsto/tmp/score_venta_ami/propension/datasets/test\"\n",
    "HPARAMS = dict(\n",
    "    n_estimators=1500,\n",
    "    objective=\"binary\",\n",
    "    learning_rate=0.01,\n",
    "    max_depth=3\n",
    ")\n",
    "LABEL =\"per_propensionvn_ami_cls\""
   ]
  },
  {
   "cell_type": "code",
   "execution_count": 6,
   "id": "6e4d926b-153b-48ed-afae-30eb91c17e7b",
   "metadata": {
    "ExecuteTime": {
     "end_time": "2023-10-06T17:59:20.509158200Z",
     "start_time": "2023-10-06T17:59:05.380054400Z"
    }
   },
   "outputs": [
    {
     "name": "stderr",
     "output_type": "stream",
     "text": [
      "/mnt/d/user/clopezh/PycharmProjects/vertex-pipelines-end-to-end-samples/model/utilities/src/utilities/utils.py:23: DtypeWarning: Columns (10,16) have mixed types. Specify dtype option on import or set low_memory=False.\n",
      "  df_train = pd.read_csv(train_path)\n"
     ]
    }
   ],
   "source": [
    "# Read dataframes\n",
    "df_train, df_valid, df_test = read_datasets(TRAIN_PATH, VALID_PATH, TEST_PATH)"
   ]
  },
  {
   "cell_type": "code",
   "execution_count": 7,
   "id": "05101bb5-34af-4fe7-82d3-17630f438309",
   "metadata": {
    "ExecuteTime": {
     "end_time": "2023-10-06T17:59:20.528127300Z",
     "start_time": "2023-10-06T17:59:20.509158200Z"
    }
   },
   "outputs": [],
   "source": [
    "# Split dataframes\n",
    "X_train, y_train = split_xy(df_train, LABEL)\n",
    "X_valid, y_valid = split_xy(df_valid, LABEL)\n",
    "X_test, y_test = split_xy(df_test, LABEL)"
   ]
  },
  {
   "cell_type": "code",
   "execution_count": 8,
   "id": "64ac6927-e273-4797-bc90-1ac5dd6ef147",
   "metadata": {
    "ExecuteTime": {
     "end_time": "2023-10-06T17:59:20.556128900Z",
     "start_time": "2023-10-06T17:59:20.528127300Z"
    }
   },
   "outputs": [],
   "source": [
    "# List of all columns in train dataset\n",
    "col_list = X_train.columns.tolist()"
   ]
  },
  {
   "cell_type": "code",
   "execution_count": 9,
   "id": "c0258a12-3286-497e-801f-5d04696c1212",
   "metadata": {
    "ExecuteTime": {
     "end_time": "2023-10-06T17:59:20.556128900Z",
     "start_time": "2023-10-06T17:59:20.538130500Z"
    }
   },
   "outputs": [],
   "source": [
    "# Columns indices and categories custom order to build preprocessing pipeline\n",
    "columns_indices = {\n",
    "    \"numerical\": indices_in_list(NUM_COLS, col_list),\n",
    "    \"age\": indices_in_list(AGE_COL, col_list),\n",
    "    \"nse\": indices_in_list(NSE_COL, col_list),\n",
    "    \"rcc\": indices_in_list(RCC_COL, col_list),\n",
    "    \"cono_agrup\": indices_in_list(DES_CONO_COL, col_list),\n",
    "    \"lima_prov\": indices_in_list(OHE_COLS, col_list),\n",
    "    \"products\": indices_in_list(COMBO_COL, col_list)\n",
    "}\n",
    "\n",
    "categories_order = {\n",
    "    \"nse\": [NSE_CATEGORY_ORDER],\n",
    "    \"rcc\": [RCC_CATEGORY_ORDER],\n",
    "    \"lima_prov\": [LIMA_PROV_CATEGORY_ORDER]\n",
    "}"
   ]
  },
  {
   "cell_type": "code",
   "execution_count": 10,
   "id": "4772bc24-1c57-40fe-b150-42392c1d6ec7",
   "metadata": {
    "ExecuteTime": {
     "end_time": "2023-10-06T17:59:20.572129300Z",
     "start_time": "2023-10-06T17:59:20.549128Z"
    }
   },
   "outputs": [
    {
     "data": {
      "text/plain": "{'numerical': [2, 3, 4, 5, 6, 7, 8, 10, 11, 14, 16, 17, 18, 19],\n 'age': [13],\n 'nse': [12],\n 'rcc': [15],\n 'cono_agrup': [21],\n 'lima_prov': [20],\n 'products': [9]}"
     },
     "execution_count": 10,
     "metadata": {},
     "output_type": "execute_result"
    }
   ],
   "source": [
    "columns_indices"
   ]
  },
  {
   "cell_type": "code",
   "execution_count": 11,
   "id": "3e4fa717-535e-4d8a-82f3-e49182d37dc6",
   "metadata": {
    "ExecuteTime": {
     "end_time": "2023-10-06T17:59:20.619139400Z",
     "start_time": "2023-10-06T17:59:20.573131600Z"
    }
   },
   "outputs": [
    {
     "data": {
      "text/plain": "{'nse': [['OTRO', 'E', 'D', 'C2', 'C1', 'B2', 'B1', 'A2', 'A1']],\n 'rcc': [['OTRO',\n   'PERDIDA',\n   'DUDOSO',\n   'DEFICIENTE',\n   'CON PROBLEMAS POTENCIALES',\n   'NORMAL']],\n 'lima_prov': [['OTRO', 'LIMA-CALLAO', 'PROVINCIA']]}"
     },
     "execution_count": 11,
     "metadata": {},
     "output_type": "execute_result"
    }
   ],
   "source": [
    "categories_order"
   ]
  },
  {
   "cell_type": "code",
   "execution_count": 12,
   "id": "aacc0157-4353-4fe5-8c89-698a62e46b1f",
   "metadata": {
    "ExecuteTime": {
     "end_time": "2023-10-06T17:59:20.619139400Z",
     "start_time": "2023-10-06T17:59:20.588129400Z"
    }
   },
   "outputs": [],
   "source": [
    "preprocesser = build_preprocessing_transformer(columns_indices, categories_order)"
   ]
  },
  {
   "cell_type": "code",
   "execution_count": 13,
   "id": "baf7884c-2d90-4c8e-8f92-ac6c7ca7b118",
   "metadata": {
    "ExecuteTime": {
     "end_time": "2023-10-06T17:59:20.677131200Z",
     "start_time": "2023-10-06T17:59:20.608163400Z"
    }
   },
   "outputs": [
    {
     "data": {
      "text/plain": "ColumnTransformer(transformers=[('impute_numerical',\n                                 SimpleImputer(fill_value=0,\n                                               strategy='constant'),\n                                 [2, 3, 4, 5, 6, 7, 8, 10, 11, 14, 16, 17, 18,\n                                  19]),\n                                ('impute_age', SimpleImputer(strategy='median'),\n                                 [13]),\n                                ('nse_encoding',\n                                 Pipeline(steps=[('imputation',\n                                                  SimpleImputer(fill_value='OTRO',\n                                                                strategy='constant')),\n                                                 ('ordinal_encoding',\n                                                  OrdinalEncoder(categories=[['OTRO',\n                                                                              'E',...\n                                                  OrdinalEncoder(handle_unknown='use_encoded_value',\n                                                                 unknown_value=-1))]),\n                                 [21]),\n                                ('lima_prov_encoding',\n                                 Pipeline(steps=[('imputation',\n                                                  SimpleImputer(fill_value='OTRO',\n                                                                strategy='constant')),\n                                                 ('one_hot_encoding',\n                                                  OneHotEncoder(categories=[['OTRO',\n                                                                             'LIMA-CALLAO',\n                                                                             'PROVINCIA']],\n                                                                drop='first'))]),\n                                 [20]),\n                                ('flag_desgravamen',\n                                 StringContainsTransformer(target_string='DESGRAVAMEN'),\n                                 [9])])",
      "text/html": "<style>#sk-container-id-1 {color: black;}#sk-container-id-1 pre{padding: 0;}#sk-container-id-1 div.sk-toggleable {background-color: white;}#sk-container-id-1 label.sk-toggleable__label {cursor: pointer;display: block;width: 100%;margin-bottom: 0;padding: 0.3em;box-sizing: border-box;text-align: center;}#sk-container-id-1 label.sk-toggleable__label-arrow:before {content: \"▸\";float: left;margin-right: 0.25em;color: #696969;}#sk-container-id-1 label.sk-toggleable__label-arrow:hover:before {color: black;}#sk-container-id-1 div.sk-estimator:hover label.sk-toggleable__label-arrow:before {color: black;}#sk-container-id-1 div.sk-toggleable__content {max-height: 0;max-width: 0;overflow: hidden;text-align: left;background-color: #f0f8ff;}#sk-container-id-1 div.sk-toggleable__content pre {margin: 0.2em;color: black;border-radius: 0.25em;background-color: #f0f8ff;}#sk-container-id-1 input.sk-toggleable__control:checked~div.sk-toggleable__content {max-height: 200px;max-width: 100%;overflow: auto;}#sk-container-id-1 input.sk-toggleable__control:checked~label.sk-toggleable__label-arrow:before {content: \"▾\";}#sk-container-id-1 div.sk-estimator input.sk-toggleable__control:checked~label.sk-toggleable__label {background-color: #d4ebff;}#sk-container-id-1 div.sk-label input.sk-toggleable__control:checked~label.sk-toggleable__label {background-color: #d4ebff;}#sk-container-id-1 input.sk-hidden--visually {border: 0;clip: rect(1px 1px 1px 1px);clip: rect(1px, 1px, 1px, 1px);height: 1px;margin: -1px;overflow: hidden;padding: 0;position: absolute;width: 1px;}#sk-container-id-1 div.sk-estimator {font-family: monospace;background-color: #f0f8ff;border: 1px dotted black;border-radius: 0.25em;box-sizing: border-box;margin-bottom: 0.5em;}#sk-container-id-1 div.sk-estimator:hover {background-color: #d4ebff;}#sk-container-id-1 div.sk-parallel-item::after {content: \"\";width: 100%;border-bottom: 1px solid gray;flex-grow: 1;}#sk-container-id-1 div.sk-label:hover label.sk-toggleable__label {background-color: #d4ebff;}#sk-container-id-1 div.sk-serial::before {content: \"\";position: absolute;border-left: 1px solid gray;box-sizing: border-box;top: 0;bottom: 0;left: 50%;z-index: 0;}#sk-container-id-1 div.sk-serial {display: flex;flex-direction: column;align-items: center;background-color: white;padding-right: 0.2em;padding-left: 0.2em;position: relative;}#sk-container-id-1 div.sk-item {position: relative;z-index: 1;}#sk-container-id-1 div.sk-parallel {display: flex;align-items: stretch;justify-content: center;background-color: white;position: relative;}#sk-container-id-1 div.sk-item::before, #sk-container-id-1 div.sk-parallel-item::before {content: \"\";position: absolute;border-left: 1px solid gray;box-sizing: border-box;top: 0;bottom: 0;left: 50%;z-index: -1;}#sk-container-id-1 div.sk-parallel-item {display: flex;flex-direction: column;z-index: 1;position: relative;background-color: white;}#sk-container-id-1 div.sk-parallel-item:first-child::after {align-self: flex-end;width: 50%;}#sk-container-id-1 div.sk-parallel-item:last-child::after {align-self: flex-start;width: 50%;}#sk-container-id-1 div.sk-parallel-item:only-child::after {width: 0;}#sk-container-id-1 div.sk-dashed-wrapped {border: 1px dashed gray;margin: 0 0.4em 0.5em 0.4em;box-sizing: border-box;padding-bottom: 0.4em;background-color: white;}#sk-container-id-1 div.sk-label label {font-family: monospace;font-weight: bold;display: inline-block;line-height: 1.2em;}#sk-container-id-1 div.sk-label-container {text-align: center;}#sk-container-id-1 div.sk-container {/* jupyter's `normalize.less` sets `[hidden] { display: none; }` but bootstrap.min.css set `[hidden] { display: none !important; }` so we also need the `!important` here to be able to override the default hidden behavior on the sphinx rendered scikit-learn.org. See: https://github.com/scikit-learn/scikit-learn/issues/21755 */display: inline-block !important;position: relative;}#sk-container-id-1 div.sk-text-repr-fallback {display: none;}</style><div id=\"sk-container-id-1\" class=\"sk-top-container\"><div class=\"sk-text-repr-fallback\"><pre>ColumnTransformer(transformers=[(&#x27;impute_numerical&#x27;,\n                                 SimpleImputer(fill_value=0,\n                                               strategy=&#x27;constant&#x27;),\n                                 [2, 3, 4, 5, 6, 7, 8, 10, 11, 14, 16, 17, 18,\n                                  19]),\n                                (&#x27;impute_age&#x27;, SimpleImputer(strategy=&#x27;median&#x27;),\n                                 [13]),\n                                (&#x27;nse_encoding&#x27;,\n                                 Pipeline(steps=[(&#x27;imputation&#x27;,\n                                                  SimpleImputer(fill_value=&#x27;OTRO&#x27;,\n                                                                strategy=&#x27;constant&#x27;)),\n                                                 (&#x27;ordinal_encoding&#x27;,\n                                                  OrdinalEncoder(categories=[[&#x27;OTRO&#x27;,\n                                                                              &#x27;E&#x27;,...\n                                                  OrdinalEncoder(handle_unknown=&#x27;use_encoded_value&#x27;,\n                                                                 unknown_value=-1))]),\n                                 [21]),\n                                (&#x27;lima_prov_encoding&#x27;,\n                                 Pipeline(steps=[(&#x27;imputation&#x27;,\n                                                  SimpleImputer(fill_value=&#x27;OTRO&#x27;,\n                                                                strategy=&#x27;constant&#x27;)),\n                                                 (&#x27;one_hot_encoding&#x27;,\n                                                  OneHotEncoder(categories=[[&#x27;OTRO&#x27;,\n                                                                             &#x27;LIMA-CALLAO&#x27;,\n                                                                             &#x27;PROVINCIA&#x27;]],\n                                                                drop=&#x27;first&#x27;))]),\n                                 [20]),\n                                (&#x27;flag_desgravamen&#x27;,\n                                 StringContainsTransformer(target_string=&#x27;DESGRAVAMEN&#x27;),\n                                 [9])])</pre><b>In a Jupyter environment, please rerun this cell to show the HTML representation or trust the notebook. <br />On GitHub, the HTML representation is unable to render, please try loading this page with nbviewer.org.</b></div><div class=\"sk-container\" hidden><div class=\"sk-item sk-dashed-wrapped\"><div class=\"sk-label-container\"><div class=\"sk-label sk-toggleable\"><input class=\"sk-toggleable__control sk-hidden--visually\" id=\"sk-estimator-id-1\" type=\"checkbox\" ><label for=\"sk-estimator-id-1\" class=\"sk-toggleable__label sk-toggleable__label-arrow\">ColumnTransformer</label><div class=\"sk-toggleable__content\"><pre>ColumnTransformer(transformers=[(&#x27;impute_numerical&#x27;,\n                                 SimpleImputer(fill_value=0,\n                                               strategy=&#x27;constant&#x27;),\n                                 [2, 3, 4, 5, 6, 7, 8, 10, 11, 14, 16, 17, 18,\n                                  19]),\n                                (&#x27;impute_age&#x27;, SimpleImputer(strategy=&#x27;median&#x27;),\n                                 [13]),\n                                (&#x27;nse_encoding&#x27;,\n                                 Pipeline(steps=[(&#x27;imputation&#x27;,\n                                                  SimpleImputer(fill_value=&#x27;OTRO&#x27;,\n                                                                strategy=&#x27;constant&#x27;)),\n                                                 (&#x27;ordinal_encoding&#x27;,\n                                                  OrdinalEncoder(categories=[[&#x27;OTRO&#x27;,\n                                                                              &#x27;E&#x27;,...\n                                                  OrdinalEncoder(handle_unknown=&#x27;use_encoded_value&#x27;,\n                                                                 unknown_value=-1))]),\n                                 [21]),\n                                (&#x27;lima_prov_encoding&#x27;,\n                                 Pipeline(steps=[(&#x27;imputation&#x27;,\n                                                  SimpleImputer(fill_value=&#x27;OTRO&#x27;,\n                                                                strategy=&#x27;constant&#x27;)),\n                                                 (&#x27;one_hot_encoding&#x27;,\n                                                  OneHotEncoder(categories=[[&#x27;OTRO&#x27;,\n                                                                             &#x27;LIMA-CALLAO&#x27;,\n                                                                             &#x27;PROVINCIA&#x27;]],\n                                                                drop=&#x27;first&#x27;))]),\n                                 [20]),\n                                (&#x27;flag_desgravamen&#x27;,\n                                 StringContainsTransformer(target_string=&#x27;DESGRAVAMEN&#x27;),\n                                 [9])])</pre></div></div></div><div class=\"sk-parallel\"><div class=\"sk-parallel-item\"><div class=\"sk-item\"><div class=\"sk-label-container\"><div class=\"sk-label sk-toggleable\"><input class=\"sk-toggleable__control sk-hidden--visually\" id=\"sk-estimator-id-2\" type=\"checkbox\" ><label for=\"sk-estimator-id-2\" class=\"sk-toggleable__label sk-toggleable__label-arrow\">impute_numerical</label><div class=\"sk-toggleable__content\"><pre>[2, 3, 4, 5, 6, 7, 8, 10, 11, 14, 16, 17, 18, 19]</pre></div></div></div><div class=\"sk-serial\"><div class=\"sk-item\"><div class=\"sk-estimator sk-toggleable\"><input class=\"sk-toggleable__control sk-hidden--visually\" id=\"sk-estimator-id-3\" type=\"checkbox\" ><label for=\"sk-estimator-id-3\" class=\"sk-toggleable__label sk-toggleable__label-arrow\">SimpleImputer</label><div class=\"sk-toggleable__content\"><pre>SimpleImputer(fill_value=0, strategy=&#x27;constant&#x27;)</pre></div></div></div></div></div></div><div class=\"sk-parallel-item\"><div class=\"sk-item\"><div class=\"sk-label-container\"><div class=\"sk-label sk-toggleable\"><input class=\"sk-toggleable__control sk-hidden--visually\" id=\"sk-estimator-id-4\" type=\"checkbox\" ><label for=\"sk-estimator-id-4\" class=\"sk-toggleable__label sk-toggleable__label-arrow\">impute_age</label><div class=\"sk-toggleable__content\"><pre>[13]</pre></div></div></div><div class=\"sk-serial\"><div class=\"sk-item\"><div class=\"sk-estimator sk-toggleable\"><input class=\"sk-toggleable__control sk-hidden--visually\" id=\"sk-estimator-id-5\" type=\"checkbox\" ><label for=\"sk-estimator-id-5\" class=\"sk-toggleable__label sk-toggleable__label-arrow\">SimpleImputer</label><div class=\"sk-toggleable__content\"><pre>SimpleImputer(strategy=&#x27;median&#x27;)</pre></div></div></div></div></div></div><div class=\"sk-parallel-item\"><div class=\"sk-item\"><div class=\"sk-label-container\"><div class=\"sk-label sk-toggleable\"><input class=\"sk-toggleable__control sk-hidden--visually\" id=\"sk-estimator-id-6\" type=\"checkbox\" ><label for=\"sk-estimator-id-6\" class=\"sk-toggleable__label sk-toggleable__label-arrow\">nse_encoding</label><div class=\"sk-toggleable__content\"><pre>[12]</pre></div></div></div><div class=\"sk-serial\"><div class=\"sk-item\"><div class=\"sk-serial\"><div class=\"sk-item\"><div class=\"sk-estimator sk-toggleable\"><input class=\"sk-toggleable__control sk-hidden--visually\" id=\"sk-estimator-id-7\" type=\"checkbox\" ><label for=\"sk-estimator-id-7\" class=\"sk-toggleable__label sk-toggleable__label-arrow\">SimpleImputer</label><div class=\"sk-toggleable__content\"><pre>SimpleImputer(fill_value=&#x27;OTRO&#x27;, strategy=&#x27;constant&#x27;)</pre></div></div></div><div class=\"sk-item\"><div class=\"sk-estimator sk-toggleable\"><input class=\"sk-toggleable__control sk-hidden--visually\" id=\"sk-estimator-id-8\" type=\"checkbox\" ><label for=\"sk-estimator-id-8\" class=\"sk-toggleable__label sk-toggleable__label-arrow\">OrdinalEncoder</label><div class=\"sk-toggleable__content\"><pre>OrdinalEncoder(categories=[[&#x27;OTRO&#x27;, &#x27;E&#x27;, &#x27;D&#x27;, &#x27;C2&#x27;, &#x27;C1&#x27;, &#x27;B2&#x27;, &#x27;B1&#x27;, &#x27;A2&#x27;,\n                            &#x27;A1&#x27;]],\n               handle_unknown=&#x27;use_encoded_value&#x27;, unknown_value=-1)</pre></div></div></div></div></div></div></div></div><div class=\"sk-parallel-item\"><div class=\"sk-item\"><div class=\"sk-label-container\"><div class=\"sk-label sk-toggleable\"><input class=\"sk-toggleable__control sk-hidden--visually\" id=\"sk-estimator-id-9\" type=\"checkbox\" ><label for=\"sk-estimator-id-9\" class=\"sk-toggleable__label sk-toggleable__label-arrow\">rcc_encoding</label><div class=\"sk-toggleable__content\"><pre>[15]</pre></div></div></div><div class=\"sk-serial\"><div class=\"sk-item\"><div class=\"sk-serial\"><div class=\"sk-item\"><div class=\"sk-estimator sk-toggleable\"><input class=\"sk-toggleable__control sk-hidden--visually\" id=\"sk-estimator-id-10\" type=\"checkbox\" ><label for=\"sk-estimator-id-10\" class=\"sk-toggleable__label sk-toggleable__label-arrow\">SimpleImputer</label><div class=\"sk-toggleable__content\"><pre>SimpleImputer(fill_value=&#x27;OTRO&#x27;, strategy=&#x27;constant&#x27;)</pre></div></div></div><div class=\"sk-item\"><div class=\"sk-estimator sk-toggleable\"><input class=\"sk-toggleable__control sk-hidden--visually\" id=\"sk-estimator-id-11\" type=\"checkbox\" ><label for=\"sk-estimator-id-11\" class=\"sk-toggleable__label sk-toggleable__label-arrow\">OrdinalEncoder</label><div class=\"sk-toggleable__content\"><pre>OrdinalEncoder(categories=[[&#x27;OTRO&#x27;, &#x27;PERDIDA&#x27;, &#x27;DUDOSO&#x27;, &#x27;DEFICIENTE&#x27;,\n                            &#x27;CON PROBLEMAS POTENCIALES&#x27;, &#x27;NORMAL&#x27;]],\n               handle_unknown=&#x27;use_encoded_value&#x27;, unknown_value=-1)</pre></div></div></div></div></div></div></div></div><div class=\"sk-parallel-item\"><div class=\"sk-item\"><div class=\"sk-label-container\"><div class=\"sk-label sk-toggleable\"><input class=\"sk-toggleable__control sk-hidden--visually\" id=\"sk-estimator-id-12\" type=\"checkbox\" ><label for=\"sk-estimator-id-12\" class=\"sk-toggleable__label sk-toggleable__label-arrow\">cono_agrup_encoding</label><div class=\"sk-toggleable__content\"><pre>[21]</pre></div></div></div><div class=\"sk-serial\"><div class=\"sk-item\"><div class=\"sk-serial\"><div class=\"sk-item\"><div class=\"sk-estimator sk-toggleable\"><input class=\"sk-toggleable__control sk-hidden--visually\" id=\"sk-estimator-id-13\" type=\"checkbox\" ><label for=\"sk-estimator-id-13\" class=\"sk-toggleable__label sk-toggleable__label-arrow\">SimpleImputer</label><div class=\"sk-toggleable__content\"><pre>SimpleImputer(fill_value=&#x27;OTRO&#x27;, strategy=&#x27;constant&#x27;)</pre></div></div></div><div class=\"sk-item\"><div class=\"sk-estimator sk-toggleable\"><input class=\"sk-toggleable__control sk-hidden--visually\" id=\"sk-estimator-id-14\" type=\"checkbox\" ><label for=\"sk-estimator-id-14\" class=\"sk-toggleable__label sk-toggleable__label-arrow\">OrdinalEncoder</label><div class=\"sk-toggleable__content\"><pre>OrdinalEncoder(handle_unknown=&#x27;use_encoded_value&#x27;, unknown_value=-1)</pre></div></div></div></div></div></div></div></div><div class=\"sk-parallel-item\"><div class=\"sk-item\"><div class=\"sk-label-container\"><div class=\"sk-label sk-toggleable\"><input class=\"sk-toggleable__control sk-hidden--visually\" id=\"sk-estimator-id-15\" type=\"checkbox\" ><label for=\"sk-estimator-id-15\" class=\"sk-toggleable__label sk-toggleable__label-arrow\">lima_prov_encoding</label><div class=\"sk-toggleable__content\"><pre>[20]</pre></div></div></div><div class=\"sk-serial\"><div class=\"sk-item\"><div class=\"sk-serial\"><div class=\"sk-item\"><div class=\"sk-estimator sk-toggleable\"><input class=\"sk-toggleable__control sk-hidden--visually\" id=\"sk-estimator-id-16\" type=\"checkbox\" ><label for=\"sk-estimator-id-16\" class=\"sk-toggleable__label sk-toggleable__label-arrow\">SimpleImputer</label><div class=\"sk-toggleable__content\"><pre>SimpleImputer(fill_value=&#x27;OTRO&#x27;, strategy=&#x27;constant&#x27;)</pre></div></div></div><div class=\"sk-item\"><div class=\"sk-estimator sk-toggleable\"><input class=\"sk-toggleable__control sk-hidden--visually\" id=\"sk-estimator-id-17\" type=\"checkbox\" ><label for=\"sk-estimator-id-17\" class=\"sk-toggleable__label sk-toggleable__label-arrow\">OneHotEncoder</label><div class=\"sk-toggleable__content\"><pre>OneHotEncoder(categories=[[&#x27;OTRO&#x27;, &#x27;LIMA-CALLAO&#x27;, &#x27;PROVINCIA&#x27;]], drop=&#x27;first&#x27;)</pre></div></div></div></div></div></div></div></div><div class=\"sk-parallel-item\"><div class=\"sk-item\"><div class=\"sk-label-container\"><div class=\"sk-label sk-toggleable\"><input class=\"sk-toggleable__control sk-hidden--visually\" id=\"sk-estimator-id-18\" type=\"checkbox\" ><label for=\"sk-estimator-id-18\" class=\"sk-toggleable__label sk-toggleable__label-arrow\">flag_desgravamen</label><div class=\"sk-toggleable__content\"><pre>[9]</pre></div></div></div><div class=\"sk-serial\"><div class=\"sk-item\"><div class=\"sk-estimator sk-toggleable\"><input class=\"sk-toggleable__control sk-hidden--visually\" id=\"sk-estimator-id-19\" type=\"checkbox\" ><label for=\"sk-estimator-id-19\" class=\"sk-toggleable__label sk-toggleable__label-arrow\">StringContainsTransformer</label><div class=\"sk-toggleable__content\"><pre>StringContainsTransformer(target_string=&#x27;DESGRAVAMEN&#x27;)</pre></div></div></div></div></div></div></div></div></div></div>"
     },
     "execution_count": 13,
     "metadata": {},
     "output_type": "execute_result"
    }
   ],
   "source": [
    "preprocesser"
   ]
  },
  {
   "cell_type": "code",
   "execution_count": 14,
   "id": "2509cd74-65d4-4e00-b462-629a5fc154d8",
   "metadata": {
    "ExecuteTime": {
     "end_time": "2023-10-06T17:59:20.684136700Z",
     "start_time": "2023-10-06T17:59:20.683133800Z"
    }
   },
   "outputs": [],
   "source": [
    "lgb_model = create_model(HPARAMS)"
   ]
  },
  {
   "cell_type": "code",
   "execution_count": 15,
   "id": "894b5fc6-24e8-45a6-a39a-b26b36512fcc",
   "metadata": {
    "ExecuteTime": {
     "end_time": "2023-10-06T17:59:20.702128100Z",
     "start_time": "2023-10-06T17:59:20.689132Z"
    }
   },
   "outputs": [
    {
     "data": {
      "text/plain": "LGBMClassifier(learning_rate=0.01, max_depth=3, n_estimators=1500,\n               objective='binary')",
      "text/html": "<style>#sk-container-id-2 {color: black;}#sk-container-id-2 pre{padding: 0;}#sk-container-id-2 div.sk-toggleable {background-color: white;}#sk-container-id-2 label.sk-toggleable__label {cursor: pointer;display: block;width: 100%;margin-bottom: 0;padding: 0.3em;box-sizing: border-box;text-align: center;}#sk-container-id-2 label.sk-toggleable__label-arrow:before {content: \"▸\";float: left;margin-right: 0.25em;color: #696969;}#sk-container-id-2 label.sk-toggleable__label-arrow:hover:before {color: black;}#sk-container-id-2 div.sk-estimator:hover label.sk-toggleable__label-arrow:before {color: black;}#sk-container-id-2 div.sk-toggleable__content {max-height: 0;max-width: 0;overflow: hidden;text-align: left;background-color: #f0f8ff;}#sk-container-id-2 div.sk-toggleable__content pre {margin: 0.2em;color: black;border-radius: 0.25em;background-color: #f0f8ff;}#sk-container-id-2 input.sk-toggleable__control:checked~div.sk-toggleable__content {max-height: 200px;max-width: 100%;overflow: auto;}#sk-container-id-2 input.sk-toggleable__control:checked~label.sk-toggleable__label-arrow:before {content: \"▾\";}#sk-container-id-2 div.sk-estimator input.sk-toggleable__control:checked~label.sk-toggleable__label {background-color: #d4ebff;}#sk-container-id-2 div.sk-label input.sk-toggleable__control:checked~label.sk-toggleable__label {background-color: #d4ebff;}#sk-container-id-2 input.sk-hidden--visually {border: 0;clip: rect(1px 1px 1px 1px);clip: rect(1px, 1px, 1px, 1px);height: 1px;margin: -1px;overflow: hidden;padding: 0;position: absolute;width: 1px;}#sk-container-id-2 div.sk-estimator {font-family: monospace;background-color: #f0f8ff;border: 1px dotted black;border-radius: 0.25em;box-sizing: border-box;margin-bottom: 0.5em;}#sk-container-id-2 div.sk-estimator:hover {background-color: #d4ebff;}#sk-container-id-2 div.sk-parallel-item::after {content: \"\";width: 100%;border-bottom: 1px solid gray;flex-grow: 1;}#sk-container-id-2 div.sk-label:hover label.sk-toggleable__label {background-color: #d4ebff;}#sk-container-id-2 div.sk-serial::before {content: \"\";position: absolute;border-left: 1px solid gray;box-sizing: border-box;top: 0;bottom: 0;left: 50%;z-index: 0;}#sk-container-id-2 div.sk-serial {display: flex;flex-direction: column;align-items: center;background-color: white;padding-right: 0.2em;padding-left: 0.2em;position: relative;}#sk-container-id-2 div.sk-item {position: relative;z-index: 1;}#sk-container-id-2 div.sk-parallel {display: flex;align-items: stretch;justify-content: center;background-color: white;position: relative;}#sk-container-id-2 div.sk-item::before, #sk-container-id-2 div.sk-parallel-item::before {content: \"\";position: absolute;border-left: 1px solid gray;box-sizing: border-box;top: 0;bottom: 0;left: 50%;z-index: -1;}#sk-container-id-2 div.sk-parallel-item {display: flex;flex-direction: column;z-index: 1;position: relative;background-color: white;}#sk-container-id-2 div.sk-parallel-item:first-child::after {align-self: flex-end;width: 50%;}#sk-container-id-2 div.sk-parallel-item:last-child::after {align-self: flex-start;width: 50%;}#sk-container-id-2 div.sk-parallel-item:only-child::after {width: 0;}#sk-container-id-2 div.sk-dashed-wrapped {border: 1px dashed gray;margin: 0 0.4em 0.5em 0.4em;box-sizing: border-box;padding-bottom: 0.4em;background-color: white;}#sk-container-id-2 div.sk-label label {font-family: monospace;font-weight: bold;display: inline-block;line-height: 1.2em;}#sk-container-id-2 div.sk-label-container {text-align: center;}#sk-container-id-2 div.sk-container {/* jupyter's `normalize.less` sets `[hidden] { display: none; }` but bootstrap.min.css set `[hidden] { display: none !important; }` so we also need the `!important` here to be able to override the default hidden behavior on the sphinx rendered scikit-learn.org. See: https://github.com/scikit-learn/scikit-learn/issues/21755 */display: inline-block !important;position: relative;}#sk-container-id-2 div.sk-text-repr-fallback {display: none;}</style><div id=\"sk-container-id-2\" class=\"sk-top-container\"><div class=\"sk-text-repr-fallback\"><pre>LGBMClassifier(learning_rate=0.01, max_depth=3, n_estimators=1500,\n               objective=&#x27;binary&#x27;)</pre><b>In a Jupyter environment, please rerun this cell to show the HTML representation or trust the notebook. <br />On GitHub, the HTML representation is unable to render, please try loading this page with nbviewer.org.</b></div><div class=\"sk-container\" hidden><div class=\"sk-item\"><div class=\"sk-estimator sk-toggleable\"><input class=\"sk-toggleable__control sk-hidden--visually\" id=\"sk-estimator-id-20\" type=\"checkbox\" checked><label for=\"sk-estimator-id-20\" class=\"sk-toggleable__label sk-toggleable__label-arrow\">LGBMClassifier</label><div class=\"sk-toggleable__content\"><pre>LGBMClassifier(learning_rate=0.01, max_depth=3, n_estimators=1500,\n               objective=&#x27;binary&#x27;)</pre></div></div></div></div></div>"
     },
     "execution_count": 15,
     "metadata": {},
     "output_type": "execute_result"
    }
   ],
   "source": [
    "lgb_model"
   ]
  },
  {
   "cell_type": "code",
   "execution_count": 16,
   "id": "0547e19d-995a-4554-af1d-2e7a171dde49",
   "metadata": {
    "ExecuteTime": {
     "end_time": "2023-10-06T17:59:20.720131300Z",
     "start_time": "2023-10-06T17:59:20.706128700Z"
    }
   },
   "outputs": [],
   "source": [
    "pipeline = build_ml_pipeline(preprocesser, lgb_model)"
   ]
  },
  {
   "cell_type": "code",
   "execution_count": 17,
   "id": "f2be8aa4-2174-494c-b4a6-fb3029f3aec7",
   "metadata": {
    "ExecuteTime": {
     "end_time": "2023-10-06T17:59:20.935183700Z",
     "start_time": "2023-10-06T17:59:20.717129600Z"
    }
   },
   "outputs": [
    {
     "data": {
      "text/plain": "Pipeline(steps=[('feature_engineering',\n                 ColumnTransformer(transformers=[('impute_numerical',\n                                                  SimpleImputer(fill_value=0,\n                                                                strategy='constant'),\n                                                  [2, 3, 4, 5, 6, 7, 8, 10, 11,\n                                                   14, 16, 17, 18, 19]),\n                                                 ('impute_age',\n                                                  SimpleImputer(strategy='median'),\n                                                  [13]),\n                                                 ('nse_encoding',\n                                                  Pipeline(steps=[('imputation',\n                                                                   SimpleImputer(fill_value='OTRO',\n                                                                                 strategy='constant')),\n                                                                  ('ordinal_encoding',...\n                                                  Pipeline(steps=[('imputation',\n                                                                   SimpleImputer(fill_value='OTRO',\n                                                                                 strategy='constant')),\n                                                                  ('one_hot_encoding',\n                                                                   OneHotEncoder(categories=[['OTRO',\n                                                                                              'LIMA-CALLAO',\n                                                                                              'PROVINCIA']],\n                                                                                 drop='first'))]),\n                                                  [20]),\n                                                 ('flag_desgravamen',\n                                                  StringContainsTransformer(target_string='DESGRAVAMEN'),\n                                                  [9])])),\n                ('train_model',\n                 LGBMClassifier(learning_rate=0.01, max_depth=3,\n                                n_estimators=1500, objective='binary'))])",
      "text/html": "<style>#sk-container-id-3 {color: black;}#sk-container-id-3 pre{padding: 0;}#sk-container-id-3 div.sk-toggleable {background-color: white;}#sk-container-id-3 label.sk-toggleable__label {cursor: pointer;display: block;width: 100%;margin-bottom: 0;padding: 0.3em;box-sizing: border-box;text-align: center;}#sk-container-id-3 label.sk-toggleable__label-arrow:before {content: \"▸\";float: left;margin-right: 0.25em;color: #696969;}#sk-container-id-3 label.sk-toggleable__label-arrow:hover:before {color: black;}#sk-container-id-3 div.sk-estimator:hover label.sk-toggleable__label-arrow:before {color: black;}#sk-container-id-3 div.sk-toggleable__content {max-height: 0;max-width: 0;overflow: hidden;text-align: left;background-color: #f0f8ff;}#sk-container-id-3 div.sk-toggleable__content pre {margin: 0.2em;color: black;border-radius: 0.25em;background-color: #f0f8ff;}#sk-container-id-3 input.sk-toggleable__control:checked~div.sk-toggleable__content {max-height: 200px;max-width: 100%;overflow: auto;}#sk-container-id-3 input.sk-toggleable__control:checked~label.sk-toggleable__label-arrow:before {content: \"▾\";}#sk-container-id-3 div.sk-estimator input.sk-toggleable__control:checked~label.sk-toggleable__label {background-color: #d4ebff;}#sk-container-id-3 div.sk-label input.sk-toggleable__control:checked~label.sk-toggleable__label {background-color: #d4ebff;}#sk-container-id-3 input.sk-hidden--visually {border: 0;clip: rect(1px 1px 1px 1px);clip: rect(1px, 1px, 1px, 1px);height: 1px;margin: -1px;overflow: hidden;padding: 0;position: absolute;width: 1px;}#sk-container-id-3 div.sk-estimator {font-family: monospace;background-color: #f0f8ff;border: 1px dotted black;border-radius: 0.25em;box-sizing: border-box;margin-bottom: 0.5em;}#sk-container-id-3 div.sk-estimator:hover {background-color: #d4ebff;}#sk-container-id-3 div.sk-parallel-item::after {content: \"\";width: 100%;border-bottom: 1px solid gray;flex-grow: 1;}#sk-container-id-3 div.sk-label:hover label.sk-toggleable__label {background-color: #d4ebff;}#sk-container-id-3 div.sk-serial::before {content: \"\";position: absolute;border-left: 1px solid gray;box-sizing: border-box;top: 0;bottom: 0;left: 50%;z-index: 0;}#sk-container-id-3 div.sk-serial {display: flex;flex-direction: column;align-items: center;background-color: white;padding-right: 0.2em;padding-left: 0.2em;position: relative;}#sk-container-id-3 div.sk-item {position: relative;z-index: 1;}#sk-container-id-3 div.sk-parallel {display: flex;align-items: stretch;justify-content: center;background-color: white;position: relative;}#sk-container-id-3 div.sk-item::before, #sk-container-id-3 div.sk-parallel-item::before {content: \"\";position: absolute;border-left: 1px solid gray;box-sizing: border-box;top: 0;bottom: 0;left: 50%;z-index: -1;}#sk-container-id-3 div.sk-parallel-item {display: flex;flex-direction: column;z-index: 1;position: relative;background-color: white;}#sk-container-id-3 div.sk-parallel-item:first-child::after {align-self: flex-end;width: 50%;}#sk-container-id-3 div.sk-parallel-item:last-child::after {align-self: flex-start;width: 50%;}#sk-container-id-3 div.sk-parallel-item:only-child::after {width: 0;}#sk-container-id-3 div.sk-dashed-wrapped {border: 1px dashed gray;margin: 0 0.4em 0.5em 0.4em;box-sizing: border-box;padding-bottom: 0.4em;background-color: white;}#sk-container-id-3 div.sk-label label {font-family: monospace;font-weight: bold;display: inline-block;line-height: 1.2em;}#sk-container-id-3 div.sk-label-container {text-align: center;}#sk-container-id-3 div.sk-container {/* jupyter's `normalize.less` sets `[hidden] { display: none; }` but bootstrap.min.css set `[hidden] { display: none !important; }` so we also need the `!important` here to be able to override the default hidden behavior on the sphinx rendered scikit-learn.org. See: https://github.com/scikit-learn/scikit-learn/issues/21755 */display: inline-block !important;position: relative;}#sk-container-id-3 div.sk-text-repr-fallback {display: none;}</style><div id=\"sk-container-id-3\" class=\"sk-top-container\"><div class=\"sk-text-repr-fallback\"><pre>Pipeline(steps=[(&#x27;feature_engineering&#x27;,\n                 ColumnTransformer(transformers=[(&#x27;impute_numerical&#x27;,\n                                                  SimpleImputer(fill_value=0,\n                                                                strategy=&#x27;constant&#x27;),\n                                                  [2, 3, 4, 5, 6, 7, 8, 10, 11,\n                                                   14, 16, 17, 18, 19]),\n                                                 (&#x27;impute_age&#x27;,\n                                                  SimpleImputer(strategy=&#x27;median&#x27;),\n                                                  [13]),\n                                                 (&#x27;nse_encoding&#x27;,\n                                                  Pipeline(steps=[(&#x27;imputation&#x27;,\n                                                                   SimpleImputer(fill_value=&#x27;OTRO&#x27;,\n                                                                                 strategy=&#x27;constant&#x27;)),\n                                                                  (&#x27;ordinal_encoding&#x27;,...\n                                                  Pipeline(steps=[(&#x27;imputation&#x27;,\n                                                                   SimpleImputer(fill_value=&#x27;OTRO&#x27;,\n                                                                                 strategy=&#x27;constant&#x27;)),\n                                                                  (&#x27;one_hot_encoding&#x27;,\n                                                                   OneHotEncoder(categories=[[&#x27;OTRO&#x27;,\n                                                                                              &#x27;LIMA-CALLAO&#x27;,\n                                                                                              &#x27;PROVINCIA&#x27;]],\n                                                                                 drop=&#x27;first&#x27;))]),\n                                                  [20]),\n                                                 (&#x27;flag_desgravamen&#x27;,\n                                                  StringContainsTransformer(target_string=&#x27;DESGRAVAMEN&#x27;),\n                                                  [9])])),\n                (&#x27;train_model&#x27;,\n                 LGBMClassifier(learning_rate=0.01, max_depth=3,\n                                n_estimators=1500, objective=&#x27;binary&#x27;))])</pre><b>In a Jupyter environment, please rerun this cell to show the HTML representation or trust the notebook. <br />On GitHub, the HTML representation is unable to render, please try loading this page with nbviewer.org.</b></div><div class=\"sk-container\" hidden><div class=\"sk-item sk-dashed-wrapped\"><div class=\"sk-label-container\"><div class=\"sk-label sk-toggleable\"><input class=\"sk-toggleable__control sk-hidden--visually\" id=\"sk-estimator-id-21\" type=\"checkbox\" ><label for=\"sk-estimator-id-21\" class=\"sk-toggleable__label sk-toggleable__label-arrow\">Pipeline</label><div class=\"sk-toggleable__content\"><pre>Pipeline(steps=[(&#x27;feature_engineering&#x27;,\n                 ColumnTransformer(transformers=[(&#x27;impute_numerical&#x27;,\n                                                  SimpleImputer(fill_value=0,\n                                                                strategy=&#x27;constant&#x27;),\n                                                  [2, 3, 4, 5, 6, 7, 8, 10, 11,\n                                                   14, 16, 17, 18, 19]),\n                                                 (&#x27;impute_age&#x27;,\n                                                  SimpleImputer(strategy=&#x27;median&#x27;),\n                                                  [13]),\n                                                 (&#x27;nse_encoding&#x27;,\n                                                  Pipeline(steps=[(&#x27;imputation&#x27;,\n                                                                   SimpleImputer(fill_value=&#x27;OTRO&#x27;,\n                                                                                 strategy=&#x27;constant&#x27;)),\n                                                                  (&#x27;ordinal_encoding&#x27;,...\n                                                  Pipeline(steps=[(&#x27;imputation&#x27;,\n                                                                   SimpleImputer(fill_value=&#x27;OTRO&#x27;,\n                                                                                 strategy=&#x27;constant&#x27;)),\n                                                                  (&#x27;one_hot_encoding&#x27;,\n                                                                   OneHotEncoder(categories=[[&#x27;OTRO&#x27;,\n                                                                                              &#x27;LIMA-CALLAO&#x27;,\n                                                                                              &#x27;PROVINCIA&#x27;]],\n                                                                                 drop=&#x27;first&#x27;))]),\n                                                  [20]),\n                                                 (&#x27;flag_desgravamen&#x27;,\n                                                  StringContainsTransformer(target_string=&#x27;DESGRAVAMEN&#x27;),\n                                                  [9])])),\n                (&#x27;train_model&#x27;,\n                 LGBMClassifier(learning_rate=0.01, max_depth=3,\n                                n_estimators=1500, objective=&#x27;binary&#x27;))])</pre></div></div></div><div class=\"sk-serial\"><div class=\"sk-item sk-dashed-wrapped\"><div class=\"sk-label-container\"><div class=\"sk-label sk-toggleable\"><input class=\"sk-toggleable__control sk-hidden--visually\" id=\"sk-estimator-id-22\" type=\"checkbox\" ><label for=\"sk-estimator-id-22\" class=\"sk-toggleable__label sk-toggleable__label-arrow\">feature_engineering: ColumnTransformer</label><div class=\"sk-toggleable__content\"><pre>ColumnTransformer(transformers=[(&#x27;impute_numerical&#x27;,\n                                 SimpleImputer(fill_value=0,\n                                               strategy=&#x27;constant&#x27;),\n                                 [2, 3, 4, 5, 6, 7, 8, 10, 11, 14, 16, 17, 18,\n                                  19]),\n                                (&#x27;impute_age&#x27;, SimpleImputer(strategy=&#x27;median&#x27;),\n                                 [13]),\n                                (&#x27;nse_encoding&#x27;,\n                                 Pipeline(steps=[(&#x27;imputation&#x27;,\n                                                  SimpleImputer(fill_value=&#x27;OTRO&#x27;,\n                                                                strategy=&#x27;constant&#x27;)),\n                                                 (&#x27;ordinal_encoding&#x27;,\n                                                  OrdinalEncoder(categories=[[&#x27;OTRO&#x27;,\n                                                                              &#x27;E&#x27;,...\n                                                  OrdinalEncoder(handle_unknown=&#x27;use_encoded_value&#x27;,\n                                                                 unknown_value=-1))]),\n                                 [21]),\n                                (&#x27;lima_prov_encoding&#x27;,\n                                 Pipeline(steps=[(&#x27;imputation&#x27;,\n                                                  SimpleImputer(fill_value=&#x27;OTRO&#x27;,\n                                                                strategy=&#x27;constant&#x27;)),\n                                                 (&#x27;one_hot_encoding&#x27;,\n                                                  OneHotEncoder(categories=[[&#x27;OTRO&#x27;,\n                                                                             &#x27;LIMA-CALLAO&#x27;,\n                                                                             &#x27;PROVINCIA&#x27;]],\n                                                                drop=&#x27;first&#x27;))]),\n                                 [20]),\n                                (&#x27;flag_desgravamen&#x27;,\n                                 StringContainsTransformer(target_string=&#x27;DESGRAVAMEN&#x27;),\n                                 [9])])</pre></div></div></div><div class=\"sk-parallel\"><div class=\"sk-parallel-item\"><div class=\"sk-item\"><div class=\"sk-label-container\"><div class=\"sk-label sk-toggleable\"><input class=\"sk-toggleable__control sk-hidden--visually\" id=\"sk-estimator-id-23\" type=\"checkbox\" ><label for=\"sk-estimator-id-23\" class=\"sk-toggleable__label sk-toggleable__label-arrow\">impute_numerical</label><div class=\"sk-toggleable__content\"><pre>[2, 3, 4, 5, 6, 7, 8, 10, 11, 14, 16, 17, 18, 19]</pre></div></div></div><div class=\"sk-serial\"><div class=\"sk-item\"><div class=\"sk-estimator sk-toggleable\"><input class=\"sk-toggleable__control sk-hidden--visually\" id=\"sk-estimator-id-24\" type=\"checkbox\" ><label for=\"sk-estimator-id-24\" class=\"sk-toggleable__label sk-toggleable__label-arrow\">SimpleImputer</label><div class=\"sk-toggleable__content\"><pre>SimpleImputer(fill_value=0, strategy=&#x27;constant&#x27;)</pre></div></div></div></div></div></div><div class=\"sk-parallel-item\"><div class=\"sk-item\"><div class=\"sk-label-container\"><div class=\"sk-label sk-toggleable\"><input class=\"sk-toggleable__control sk-hidden--visually\" id=\"sk-estimator-id-25\" type=\"checkbox\" ><label for=\"sk-estimator-id-25\" class=\"sk-toggleable__label sk-toggleable__label-arrow\">impute_age</label><div class=\"sk-toggleable__content\"><pre>[13]</pre></div></div></div><div class=\"sk-serial\"><div class=\"sk-item\"><div class=\"sk-estimator sk-toggleable\"><input class=\"sk-toggleable__control sk-hidden--visually\" id=\"sk-estimator-id-26\" type=\"checkbox\" ><label for=\"sk-estimator-id-26\" class=\"sk-toggleable__label sk-toggleable__label-arrow\">SimpleImputer</label><div class=\"sk-toggleable__content\"><pre>SimpleImputer(strategy=&#x27;median&#x27;)</pre></div></div></div></div></div></div><div class=\"sk-parallel-item\"><div class=\"sk-item\"><div class=\"sk-label-container\"><div class=\"sk-label sk-toggleable\"><input class=\"sk-toggleable__control sk-hidden--visually\" id=\"sk-estimator-id-27\" type=\"checkbox\" ><label for=\"sk-estimator-id-27\" class=\"sk-toggleable__label sk-toggleable__label-arrow\">nse_encoding</label><div class=\"sk-toggleable__content\"><pre>[12]</pre></div></div></div><div class=\"sk-serial\"><div class=\"sk-item\"><div class=\"sk-serial\"><div class=\"sk-item\"><div class=\"sk-estimator sk-toggleable\"><input class=\"sk-toggleable__control sk-hidden--visually\" id=\"sk-estimator-id-28\" type=\"checkbox\" ><label for=\"sk-estimator-id-28\" class=\"sk-toggleable__label sk-toggleable__label-arrow\">SimpleImputer</label><div class=\"sk-toggleable__content\"><pre>SimpleImputer(fill_value=&#x27;OTRO&#x27;, strategy=&#x27;constant&#x27;)</pre></div></div></div><div class=\"sk-item\"><div class=\"sk-estimator sk-toggleable\"><input class=\"sk-toggleable__control sk-hidden--visually\" id=\"sk-estimator-id-29\" type=\"checkbox\" ><label for=\"sk-estimator-id-29\" class=\"sk-toggleable__label sk-toggleable__label-arrow\">OrdinalEncoder</label><div class=\"sk-toggleable__content\"><pre>OrdinalEncoder(categories=[[&#x27;OTRO&#x27;, &#x27;E&#x27;, &#x27;D&#x27;, &#x27;C2&#x27;, &#x27;C1&#x27;, &#x27;B2&#x27;, &#x27;B1&#x27;, &#x27;A2&#x27;,\n                            &#x27;A1&#x27;]],\n               handle_unknown=&#x27;use_encoded_value&#x27;, unknown_value=-1)</pre></div></div></div></div></div></div></div></div><div class=\"sk-parallel-item\"><div class=\"sk-item\"><div class=\"sk-label-container\"><div class=\"sk-label sk-toggleable\"><input class=\"sk-toggleable__control sk-hidden--visually\" id=\"sk-estimator-id-30\" type=\"checkbox\" ><label for=\"sk-estimator-id-30\" class=\"sk-toggleable__label sk-toggleable__label-arrow\">rcc_encoding</label><div class=\"sk-toggleable__content\"><pre>[15]</pre></div></div></div><div class=\"sk-serial\"><div class=\"sk-item\"><div class=\"sk-serial\"><div class=\"sk-item\"><div class=\"sk-estimator sk-toggleable\"><input class=\"sk-toggleable__control sk-hidden--visually\" id=\"sk-estimator-id-31\" type=\"checkbox\" ><label for=\"sk-estimator-id-31\" class=\"sk-toggleable__label sk-toggleable__label-arrow\">SimpleImputer</label><div class=\"sk-toggleable__content\"><pre>SimpleImputer(fill_value=&#x27;OTRO&#x27;, strategy=&#x27;constant&#x27;)</pre></div></div></div><div class=\"sk-item\"><div class=\"sk-estimator sk-toggleable\"><input class=\"sk-toggleable__control sk-hidden--visually\" id=\"sk-estimator-id-32\" type=\"checkbox\" ><label for=\"sk-estimator-id-32\" class=\"sk-toggleable__label sk-toggleable__label-arrow\">OrdinalEncoder</label><div class=\"sk-toggleable__content\"><pre>OrdinalEncoder(categories=[[&#x27;OTRO&#x27;, &#x27;PERDIDA&#x27;, &#x27;DUDOSO&#x27;, &#x27;DEFICIENTE&#x27;,\n                            &#x27;CON PROBLEMAS POTENCIALES&#x27;, &#x27;NORMAL&#x27;]],\n               handle_unknown=&#x27;use_encoded_value&#x27;, unknown_value=-1)</pre></div></div></div></div></div></div></div></div><div class=\"sk-parallel-item\"><div class=\"sk-item\"><div class=\"sk-label-container\"><div class=\"sk-label sk-toggleable\"><input class=\"sk-toggleable__control sk-hidden--visually\" id=\"sk-estimator-id-33\" type=\"checkbox\" ><label for=\"sk-estimator-id-33\" class=\"sk-toggleable__label sk-toggleable__label-arrow\">cono_agrup_encoding</label><div class=\"sk-toggleable__content\"><pre>[21]</pre></div></div></div><div class=\"sk-serial\"><div class=\"sk-item\"><div class=\"sk-serial\"><div class=\"sk-item\"><div class=\"sk-estimator sk-toggleable\"><input class=\"sk-toggleable__control sk-hidden--visually\" id=\"sk-estimator-id-34\" type=\"checkbox\" ><label for=\"sk-estimator-id-34\" class=\"sk-toggleable__label sk-toggleable__label-arrow\">SimpleImputer</label><div class=\"sk-toggleable__content\"><pre>SimpleImputer(fill_value=&#x27;OTRO&#x27;, strategy=&#x27;constant&#x27;)</pre></div></div></div><div class=\"sk-item\"><div class=\"sk-estimator sk-toggleable\"><input class=\"sk-toggleable__control sk-hidden--visually\" id=\"sk-estimator-id-35\" type=\"checkbox\" ><label for=\"sk-estimator-id-35\" class=\"sk-toggleable__label sk-toggleable__label-arrow\">OrdinalEncoder</label><div class=\"sk-toggleable__content\"><pre>OrdinalEncoder(handle_unknown=&#x27;use_encoded_value&#x27;, unknown_value=-1)</pre></div></div></div></div></div></div></div></div><div class=\"sk-parallel-item\"><div class=\"sk-item\"><div class=\"sk-label-container\"><div class=\"sk-label sk-toggleable\"><input class=\"sk-toggleable__control sk-hidden--visually\" id=\"sk-estimator-id-36\" type=\"checkbox\" ><label for=\"sk-estimator-id-36\" class=\"sk-toggleable__label sk-toggleable__label-arrow\">lima_prov_encoding</label><div class=\"sk-toggleable__content\"><pre>[20]</pre></div></div></div><div class=\"sk-serial\"><div class=\"sk-item\"><div class=\"sk-serial\"><div class=\"sk-item\"><div class=\"sk-estimator sk-toggleable\"><input class=\"sk-toggleable__control sk-hidden--visually\" id=\"sk-estimator-id-37\" type=\"checkbox\" ><label for=\"sk-estimator-id-37\" class=\"sk-toggleable__label sk-toggleable__label-arrow\">SimpleImputer</label><div class=\"sk-toggleable__content\"><pre>SimpleImputer(fill_value=&#x27;OTRO&#x27;, strategy=&#x27;constant&#x27;)</pre></div></div></div><div class=\"sk-item\"><div class=\"sk-estimator sk-toggleable\"><input class=\"sk-toggleable__control sk-hidden--visually\" id=\"sk-estimator-id-38\" type=\"checkbox\" ><label for=\"sk-estimator-id-38\" class=\"sk-toggleable__label sk-toggleable__label-arrow\">OneHotEncoder</label><div class=\"sk-toggleable__content\"><pre>OneHotEncoder(categories=[[&#x27;OTRO&#x27;, &#x27;LIMA-CALLAO&#x27;, &#x27;PROVINCIA&#x27;]], drop=&#x27;first&#x27;)</pre></div></div></div></div></div></div></div></div><div class=\"sk-parallel-item\"><div class=\"sk-item\"><div class=\"sk-label-container\"><div class=\"sk-label sk-toggleable\"><input class=\"sk-toggleable__control sk-hidden--visually\" id=\"sk-estimator-id-39\" type=\"checkbox\" ><label for=\"sk-estimator-id-39\" class=\"sk-toggleable__label sk-toggleable__label-arrow\">flag_desgravamen</label><div class=\"sk-toggleable__content\"><pre>[9]</pre></div></div></div><div class=\"sk-serial\"><div class=\"sk-item\"><div class=\"sk-estimator sk-toggleable\"><input class=\"sk-toggleable__control sk-hidden--visually\" id=\"sk-estimator-id-40\" type=\"checkbox\" ><label for=\"sk-estimator-id-40\" class=\"sk-toggleable__label sk-toggleable__label-arrow\">StringContainsTransformer</label><div class=\"sk-toggleable__content\"><pre>StringContainsTransformer(target_string=&#x27;DESGRAVAMEN&#x27;)</pre></div></div></div></div></div></div></div></div><div class=\"sk-item\"><div class=\"sk-estimator sk-toggleable\"><input class=\"sk-toggleable__control sk-hidden--visually\" id=\"sk-estimator-id-41\" type=\"checkbox\" ><label for=\"sk-estimator-id-41\" class=\"sk-toggleable__label sk-toggleable__label-arrow\">LGBMClassifier</label><div class=\"sk-toggleable__content\"><pre>LGBMClassifier(learning_rate=0.01, max_depth=3, n_estimators=1500,\n               objective=&#x27;binary&#x27;)</pre></div></div></div></div></div></div></div>"
     },
     "execution_count": 17,
     "metadata": {},
     "output_type": "execute_result"
    }
   ],
   "source": [
    "pipeline"
   ]
  },
  {
   "cell_type": "code",
   "execution_count": 18,
   "outputs": [],
   "source": [
    "X_train_transformed = pipeline[\"feature_engineering\"].fit_transform(X_train)"
   ],
   "metadata": {
    "collapsed": false,
    "ExecuteTime": {
     "end_time": "2023-10-06T17:59:21.262191400Z",
     "start_time": "2023-10-06T17:59:20.918174200Z"
    }
   }
  },
  {
   "cell_type": "code",
   "execution_count": 19,
   "outputs": [
    {
     "data": {
      "text/plain": "des_combo_productos\nDESGRAVAMEN TC BBVA CREDITO                                                                                                                                                                                                                           7209\nEPS                                                                                                                                                                                                                                                   6155\nSOAT                                                                                                                                                                                                                                                  4246\nROBO TARJETA BBVA                                                                                                                                                                                                                                     1876\nDESGRAVAMEN INDIVIDUAL -BBVA                                                                                                                                                                                                                          1853\n                                                                                                                                                                                                                                                      ... \nEPS/FINANCIERA EFECTIVA DESGRAVAMEN/ONCO. INTEGRAL COLECTIVO - CON PRE                                                                                                                                                                                   1\nDOMICILIARIO RIMAC (EX CASASEGURA)/EPS/ROBO TARJETA BBVA/WEB VEHICULOS                                                                                                                                                                                   1\nDESGRAVAMEN TC BBVA CREDITO/SALUD RED PREFERENTE F F V V/WEB VEHICULOS                                                                                                                                                                                   1\nDESGRAVAMEN TC BBVA CREDITO/RENTA HOSPITALARIA INTERBANK/WEB VEHICULOS                                                                                                                                                                                   1\nINDEMNIZATORIO DE ENFERMEDADES GRAVES/PROTECCION FAMILIAR/RENTA HOSPITALARIA POR TELEMARKETING/RESPALDO INFARTO AL CORAZÓN/SEGURO DE VIDA CON DEVOLUCIÓN FALABELLA/SEGURO EDUCACIÓN SUPERIOR/SEPELIO PLUS - TLMKT/VIDA CON DEVOLUCIÓN II FALABELLA       1\nName: count, Length: 6694, dtype: int64"
     },
     "execution_count": 19,
     "metadata": {},
     "output_type": "execute_result"
    }
   ],
   "source": [
    "X_train['des_combo_productos'].value_counts()"
   ],
   "metadata": {
    "collapsed": false,
    "ExecuteTime": {
     "end_time": "2023-10-06T17:59:21.281191800Z",
     "start_time": "2023-10-06T17:59:21.274188600Z"
    }
   }
  },
  {
   "cell_type": "code",
   "execution_count": 20,
   "outputs": [
    {
     "data": {
      "text/plain": "array([[ 0.,  0.,  0., ...,  0.,  0., nan],\n       [ 0.,  0.,  0., ...,  0.,  0., nan],\n       [ 0.,  0.,  0., ...,  0.,  0., nan],\n       ...,\n       [ 1., 10.,  1., ...,  0.,  1.,  1.],\n       [ 1., 11.,  1., ...,  1.,  0.,  1.],\n       [ 1.,  8.,  0., ...,  0.,  1.,  0.]])"
     },
     "execution_count": 20,
     "metadata": {},
     "output_type": "execute_result"
    }
   ],
   "source": [
    "X_train_transformed"
   ],
   "metadata": {
    "collapsed": false,
    "ExecuteTime": {
     "end_time": "2023-10-06T17:59:21.318191900Z",
     "start_time": "2023-10-06T17:59:21.286189700Z"
    }
   }
  },
  {
   "cell_type": "code",
   "execution_count": 21,
   "outputs": [
    {
     "data": {
      "text/plain": "(array([ 0.,  1., nan]), array([ 38086,  29904, 126415]))"
     },
     "execution_count": 21,
     "metadata": {},
     "output_type": "execute_result"
    }
   ],
   "source": [
    "import numpy as np\n",
    "\n",
    "np.unique(X_train_transformed[:, -1], return_counts=True)"
   ],
   "metadata": {
    "collapsed": false,
    "ExecuteTime": {
     "end_time": "2023-10-06T17:59:21.319189400Z",
     "start_time": "2023-10-06T17:59:21.295188400Z"
    }
   }
  },
  {
   "cell_type": "code",
   "execution_count": 22,
   "id": "99b4d286-b676-4d97-bb81-2f11d2c02402",
   "metadata": {
    "ExecuteTime": {
     "end_time": "2023-10-06T18:00:14.027817400Z",
     "start_time": "2023-10-06T17:59:21.324196400Z"
    }
   },
   "outputs": [
    {
     "name": "stdout",
     "output_type": "stream",
     "text": [
      "Training until validation scores don't improve for 50 rounds\n",
      "[100]\ttrain's auc: 0.716285\ttrain's binary_logloss: 0.179551\tvalid's auc: 0.703099\tvalid's binary_logloss: 0.179304\n",
      "[200]\ttrain's auc: 0.721391\ttrain's binary_logloss: 0.176695\tvalid's auc: 0.713379\tvalid's binary_logloss: 0.176508\n",
      "[300]\ttrain's auc: 0.724592\ttrain's binary_logloss: 0.175516\tvalid's auc: 0.719081\tvalid's binary_logloss: 0.175143\n",
      "[400]\ttrain's auc: 0.726919\ttrain's binary_logloss: 0.174903\tvalid's auc: 0.723412\tvalid's binary_logloss: 0.174411\n",
      "[500]\ttrain's auc: 0.728871\ttrain's binary_logloss: 0.174496\tvalid's auc: 0.725538\tvalid's binary_logloss: 0.174036\n",
      "[600]\ttrain's auc: 0.730491\ttrain's binary_logloss: 0.17418\tvalid's auc: 0.727995\tvalid's binary_logloss: 0.173677\n",
      "[700]\ttrain's auc: 0.73186\ttrain's binary_logloss: 0.173922\tvalid's auc: 0.729504\tvalid's binary_logloss: 0.173462\n",
      "[800]\ttrain's auc: 0.733049\ttrain's binary_logloss: 0.173702\tvalid's auc: 0.730638\tvalid's binary_logloss: 0.173321\n",
      "[900]\ttrain's auc: 0.734095\ttrain's binary_logloss: 0.173507\tvalid's auc: 0.731274\tvalid's binary_logloss: 0.173221\n",
      "[1000]\ttrain's auc: 0.735174\ttrain's binary_logloss: 0.17333\tvalid's auc: 0.731871\tvalid's binary_logloss: 0.173122\n",
      "[1100]\ttrain's auc: 0.736057\ttrain's binary_logloss: 0.173182\tvalid's auc: 0.732509\tvalid's binary_logloss: 0.173024\n",
      "[1200]\ttrain's auc: 0.736901\ttrain's binary_logloss: 0.173043\tvalid's auc: 0.732819\tvalid's binary_logloss: 0.172965\n",
      "[1300]\ttrain's auc: 0.737753\ttrain's binary_logloss: 0.1729\tvalid's auc: 0.732885\tvalid's binary_logloss: 0.172934\n",
      "Early stopping, best iteration is:\n",
      "[1293]\ttrain's auc: 0.737679\ttrain's binary_logloss: 0.172911\tvalid's auc: 0.732981\tvalid's binary_logloss: 0.172922\n"
     ]
    }
   ],
   "source": [
    "fit_ml_pipeline(pipeline, X_train, y_train, X_valid, y_valid, \"auc\")"
   ]
  },
  {
   "cell_type": "code",
   "execution_count": 23,
   "outputs": [
    {
     "data": {
      "text/plain": "array(['impute_numerical__ind_cliente', 'impute_numerical__ctd_productos',\n       'impute_numerical__flg_eps', 'impute_numerical__flg_rrgg',\n       'impute_numerical__flg_vida', 'impute_numerical__flg_vehi',\n       'impute_numerical__mto_prima_contable_usd',\n       'impute_numerical__flg_fue_cliente_rimac',\n       'impute_numerical__val_scoring_ingreso',\n       'impute_numerical__mto_max_linea_tc',\n       'impute_numerical__mto_saldo_tc_sbs',\n       'impute_numerical__mto_saldo_sbs',\n       'impute_numerical__flg_tiene_vehiculo',\n       'impute_numerical__flg_escliente', 'impute_age__num_edad',\n       'nse_encoding__nse', 'rcc_encoding__cal_gral',\n       'cono_agrup_encoding__des_cono_agrup_nuevo',\n       'lima_prov_encoding__des_lima_prov_LIMA-CALLAO',\n       'lima_prov_encoding__des_lima_prov_PROVINCIA',\n       'flag_desgravamen__des_combo_productos_DESGRAVAMEN'], dtype=object)"
     },
     "execution_count": 23,
     "metadata": {},
     "output_type": "execute_result"
    }
   ],
   "source": [
    "pipeline[\"feature_engineering\"].get_feature_names_out()"
   ],
   "metadata": {
    "collapsed": false,
    "ExecuteTime": {
     "end_time": "2023-10-06T18:00:14.104861500Z",
     "start_time": "2023-10-06T18:00:14.028819900Z"
    }
   }
  },
  {
   "cell_type": "code",
   "execution_count": 24,
   "id": "484c9d2b-50cc-493c-a00d-aac71f768622",
   "metadata": {
    "ExecuteTime": {
     "end_time": "2023-10-06T18:01:07.624840300Z",
     "start_time": "2023-10-06T18:01:07.301107Z"
    }
   },
   "outputs": [],
   "source": [
    "metrics = evaluate_model(pipeline, X_test, y_test)"
   ]
  },
  {
   "cell_type": "code",
   "execution_count": 25,
   "id": "9c73a326-d523-4058-a95b-9359da394a36",
   "metadata": {
    "ExecuteTime": {
     "end_time": "2023-10-06T18:01:10.387149800Z",
     "start_time": "2023-10-06T18:01:10.353113200Z"
    }
   },
   "outputs": [
    {
     "data": {
      "text/plain": "{'problemType': 'classification',\n 'auPrc': 0.14596800697155515,\n 'auRoc': 0.7786845331819002,\n 'logLoss': 0.1411081113213628}"
     },
     "execution_count": 25,
     "metadata": {},
     "output_type": "execute_result"
    }
   ],
   "source": [
    "metrics"
   ]
  },
  {
   "cell_type": "code",
   "execution_count": 26,
   "id": "2ce6cbe9-4f29-4436-8afe-fd89f9e0232a",
   "metadata": {
    "ExecuteTime": {
     "end_time": "2023-10-06T18:01:11.281453100Z",
     "start_time": "2023-10-06T18:01:11.258459700Z"
    }
   },
   "outputs": [],
   "source": [
    "feature_importance = calculate_feature_importance(pipeline)"
   ]
  },
  {
   "cell_type": "code",
   "execution_count": 27,
   "id": "f6d52229-2490-4ad4-b648-39775ff08360",
   "metadata": {
    "ExecuteTime": {
     "end_time": "2023-10-06T18:01:11.914890700Z",
     "start_time": "2023-10-06T18:01:11.823892800Z"
    }
   },
   "outputs": [
    {
     "data": {
      "text/plain": "{'num_edad': 2317,\n 'val_scoring_ingreso': 1569,\n 'mto_prima_contable_usd': 829,\n 'des_cono_agrup_nuevo': 740,\n 'mto_saldo_sbs': 687,\n 'mto_max_linea_tc': 639,\n 'mto_saldo_tc_sbs': 617,\n 'nse': 597,\n 'ctd_productos': 162,\n 'flg_fue_cliente_rimac': 130,\n 'flg_tiene_vehiculo': 122,\n 'ind_cliente': 97,\n 'flg_rrgg': 77,\n 'flg_eps': 70,\n 'des_combo_productos_DESGRAVAMEN': 66,\n 'flg_vehi': 65,\n 'cal_gral': 54,\n 'flg_vida': 51,\n 'des_lima_prov_LIMA-CALLAO': 34,\n 'flg_escliente': 0,\n 'des_lima_prov_PROVINCIA': 0}"
     },
     "execution_count": 27,
     "metadata": {},
     "output_type": "execute_result"
    }
   ],
   "source": [
    "feature_importance"
   ]
  },
  {
   "cell_type": "code",
   "execution_count": null,
   "id": "0822e692-21c0-4ee4-bcf9-518785af8a3b",
   "metadata": {},
   "outputs": [],
   "source": [
    "import lightgbm as lgb\n",
    "\n",
    "lgb.plot_importance(pipeline['train_model'])"
   ]
  },
  {
   "cell_type": "code",
   "execution_count": null,
   "id": "64295e01-2941-4957-96db-4db18e7c33da",
   "metadata": {},
   "outputs": [],
   "source": [
    "lgb.plot_metric(pipeline['train_model'], metric='auc')"
   ]
  },
  {
   "cell_type": "code",
   "execution_count": null,
   "id": "fec8ec37-207b-41c6-a982-992345611442",
   "metadata": {},
   "outputs": [],
   "source": [
    "# Create path to save model and metrics\n",
    "model_artifact_path = Path.cwd().parent / \"model_artifacts\"\n",
    "metrics_filename = model_artifact_path / \"metrics\""
   ]
  },
  {
   "cell_type": "code",
   "execution_count": null,
   "id": "4a9f191d-4d05-49ca-ac33-2aaec91d75d3",
   "metadata": {},
   "outputs": [],
   "source": [
    "save_model_artifact(model_artifact=pipeline, model_path=str(model_artifact_path))"
   ]
  },
  {
   "cell_type": "code",
   "execution_count": null,
   "id": "8c6214b3-27b5-490e-b8b8-50719026a7c4",
   "metadata": {},
   "outputs": [],
   "source": [
    "save_metrics(metrics, str(metrics_filename))"
   ]
  }
 ],
 "metadata": {
  "environment": {
   "name": "common-cpu.m81",
   "type": "gcloud",
   "uri": "gcr.io/deeplearning-platform-release/base-cpu:m81"
  },
  "kernelspec": {
   "display_name": "score-venta-salud",
   "language": "python",
   "name": "score-venta-salud"
  },
  "language_info": {
   "codemirror_mode": {
    "name": "ipython",
    "version": 3
   },
   "file_extension": ".py",
   "mimetype": "text/x-python",
   "name": "python",
   "nbconvert_exporter": "python",
   "pygments_lexer": "ipython3",
   "version": "3.8.5"
  }
 },
 "nbformat": 4,
 "nbformat_minor": 5
}
